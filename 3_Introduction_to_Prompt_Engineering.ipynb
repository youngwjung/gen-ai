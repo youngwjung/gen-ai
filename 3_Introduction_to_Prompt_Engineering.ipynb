{
 "cells": [
  {
   "cell_type": "markdown",
   "id": "5adba3d9",
   "metadata": {},
   "source": [
    "# Introduction to Prompt Engineering\n",
    "\n",
    "해당 노트북을 통해서 프롬프트 엔지니어링 기법에 대해서 알아보겠습니다."
   ]
  },
  {
   "cell_type": "markdown",
   "id": "4bf933a7",
   "metadata": {},
   "source": [
    "## 실습 환경 설정\n",
    "실습 진행에 필요한 라이브러리를 설치하고 Bedrock API 호출에 사용할 AWS SDK를 설정합니다."
   ]
  },
  {
   "cell_type": "code",
   "execution_count": null,
   "id": "5d0afdab",
   "metadata": {
    "scrolled": true
   },
   "outputs": [],
   "source": [
    "!pip install xmltodict\n",
    "\n",
    "import pandas as pd\n",
    "import numpy as np\n",
    "import boto3\n",
    "import json\n",
    "\n",
    "bedrock = boto3.client(\n",
    "    'bedrock',\n",
    "    region_name=\"us-east-1\"\n",
    ")\n",
    "\n",
    "bedrock_runtime = boto3.client(\n",
    "    'bedrock-runtime',\n",
    "    region_name=\"us-east-1\"\n",
    ")\n",
    "\n",
    "def cprint(text):\n",
    "    print(f'\\033[1m\\033[94m{text}')"
   ]
  },
  {
   "cell_type": "markdown",
   "id": "ff6195fc",
   "metadata": {},
   "source": [
    "Amazon Bedrock에서 제공하는 모델 목록을 확인"
   ]
  },
  {
   "cell_type": "code",
   "execution_count": null,
   "id": "680b3f8f",
   "metadata": {},
   "outputs": [],
   "source": [
    "response = bedrock.list_foundation_models(\n",
    ")\n",
    "\n",
    "fm = pd.DataFrame.from_records(response['modelSummaries'])\n",
    "fm = fm.drop(columns=['modelArn', 'modelId', 'responseStreamingSupported', 'customizationsSupported', 'inferenceTypesSupported', 'modelLifecycle'])\n",
    "fm = fm.drop_duplicates(subset=['modelName'])\n",
    "fm = fm.rename(columns={\"modelName\": \"Model\", \"providerName\": \"Provider\", \"inputModalities\": \"Input\", \"outputModalities\": \"Output\"})\n",
    "fm = fm[['Provider', 'Model', 'Input', 'Output']]\n",
    "fm.style.hide(axis=\"index\")"
   ]
  },
  {
   "cell_type": "markdown",
   "id": "5aea1838",
   "metadata": {},
   "source": [
    "## 프롬프트 기초\n",
    "실습에서 사용할 Claude 모델 호출에 필요한 변수 및 프롬프트 구조에 대해서 알아보겠습니다."
   ]
  },
  {
   "cell_type": "markdown",
   "id": "733a1456",
   "metadata": {},
   "source": [
    "Claude 모델을 호출하는 함수 생성 - https://boto3.amazonaws.com/v1/documentation/api/latest/reference/services/bedrock-runtime/client/invoke_model.html"
   ]
  },
  {
   "cell_type": "code",
   "execution_count": null,
   "id": "370511c0",
   "metadata": {},
   "outputs": [],
   "source": [
    "def invoke_claude(prompt):\n",
    "    body = json.dumps({\"prompt\": prompt})\n",
    "    respnose = bedrock_runtime.invoke_model(\n",
    "        modelId='anthropic.claude-v2:1',\n",
    "        body=body\n",
    "    )\n",
    "    return respnose"
   ]
  },
  {
   "cell_type": "markdown",
   "id": "60a0feef",
   "metadata": {},
   "source": [
    "모델 호출 테스트"
   ]
  },
  {
   "cell_type": "code",
   "execution_count": null,
   "id": "0d09e630",
   "metadata": {},
   "outputs": [],
   "source": [
    "cprint(invoke_claude('대한민국의 수도는?'))"
   ]
  },
  {
   "cell_type": "markdown",
   "id": "ec4dfb2b",
   "metadata": {},
   "source": [
    "Claude 모델 추론에 필요한 변수 확인 - https://docs.aws.amazon.com/bedrock/latest/userguide/model-parameters-claude.html"
   ]
  },
  {
   "cell_type": "markdown",
   "id": "0e430221",
   "metadata": {},
   "source": [
    "Claude 모델을 호출하는 함수 수정"
   ]
  },
  {
   "cell_type": "code",
   "execution_count": null,
   "id": "ab43a601",
   "metadata": {},
   "outputs": [],
   "source": [
    "def invoke_claude(prompt):\n",
    "    body = json.dumps(\n",
    "        {\n",
    "            \"prompt\": prompt,\n",
    "            \"max_tokens_to_sample\": 500\n",
    "        }\n",
    "    )\n",
    "    response = bedrock_runtime.invoke_model(\n",
    "        modelId='anthropic.claude-v2:1',\n",
    "        body=body\n",
    "    )\n",
    "    response_body = json.loads(response.get('body').read())\n",
    "\n",
    "    return response_body.get('completion')"
   ]
  },
  {
   "cell_type": "markdown",
   "id": "802faa87",
   "metadata": {},
   "source": [
    "모델 호출 테스트"
   ]
  },
  {
   "cell_type": "code",
   "execution_count": null,
   "id": "6a5f74f6",
   "metadata": {},
   "outputs": [],
   "source": [
    "cprint(invoke_claude('대한민국의 수도는?'))"
   ]
  },
  {
   "cell_type": "markdown",
   "id": "df8253d0",
   "metadata": {},
   "source": [
    "변수로 입력하는 문자열을 Claude가 요구하는 프롬프트 양식으로 변환 후 모델을 호출하는 함수 생성"
   ]
  },
  {
   "cell_type": "code",
   "execution_count": null,
   "id": "2a95936f",
   "metadata": {},
   "outputs": [],
   "source": [
    "def invoke_claude_auto_format(prompt):\n",
    "    body = json.dumps(\n",
    "        {\n",
    "            \"prompt\": f\"\\n\\nHuman: {prompt}\\n\\nAssistant:\",\n",
    "            \"max_tokens_to_sample\": 500\n",
    "        }\n",
    "    )\n",
    "    response = bedrock_runtime.invoke_model(\n",
    "        modelId='anthropic.claude-v2:1',\n",
    "        body=body\n",
    "    )\n",
    "    response_body = json.loads(response.get('body').read())\n",
    "\n",
    "    return response_body.get('completion')"
   ]
  },
  {
   "cell_type": "markdown",
   "id": "7c876648",
   "metadata": {},
   "source": [
    "모델 호출 테스트"
   ]
  },
  {
   "cell_type": "code",
   "execution_count": null,
   "id": "b22f1929",
   "metadata": {},
   "outputs": [],
   "source": [
    "cprint(invoke_claude_auto_format('대한민국의 수도는?'))"
   ]
  },
  {
   "cell_type": "markdown",
   "id": "859cc761",
   "metadata": {},
   "source": [
    "대화 기능이 가능한지 확인해 보겠습니다."
   ]
  },
  {
   "cell_type": "code",
   "execution_count": null,
   "id": "8df37b46",
   "metadata": {},
   "outputs": [],
   "source": [
    "cprint(invoke_claude_auto_format('인구는 얼마인가요?'))"
   ]
  },
  {
   "cell_type": "markdown",
   "id": "0516a411",
   "metadata": {},
   "source": [
    "프롬프트와 응답을 조합해서 대화 형식으로 출력해보겠습니다."
   ]
  },
  {
   "cell_type": "code",
   "execution_count": null,
   "id": "a70f23c1",
   "metadata": {},
   "outputs": [],
   "source": [
    "prompt = '대한민국의 수도는?'\n",
    "response = invoke_claude_auto_format(prompt)\n",
    "dialogue = f'\\n\\nHuman: {prompt}\\n\\nAssistant:{response}'\n",
    "cprint(dialogue)"
   ]
  },
  {
   "cell_type": "markdown",
   "id": "23c3f41d",
   "metadata": {},
   "source": [
    "이전 대화 내용을 프롬프트에 추가해서 대화 기능이 가능한지 확인해 보겠습니다."
   ]
  },
  {
   "cell_type": "code",
   "execution_count": null,
   "id": "ac9f443d",
   "metadata": {},
   "outputs": [],
   "source": [
    "def chat_claude(prompt, previous_dialogue):\n",
    "    if previous_dialogue:\n",
    "        prompt = f'{previous_dialogue}\\n\\nHuman: {prompt}\\n\\nAssistant:'\n",
    "        cprint(prompt)\n",
    "    else:\n",
    "        prompt = f'\\n\\nHuman: {prompt}\\n\\nAssistant:'\n",
    "        \n",
    "    body = json.dumps(\n",
    "        {\n",
    "            \"prompt\": prompt,\n",
    "            \"max_tokens_to_sample\": 500\n",
    "        }\n",
    "    )\n",
    "    response = bedrock_runtime.invoke_model(\n",
    "        modelId='anthropic.claude-v2:1',\n",
    "        body=body\n",
    "    )\n",
    "    response_body = json.loads(response.get('body').read())\n",
    "\n",
    "    return response_body.get('completion')\n",
    "\n",
    "\n",
    "cprint(chat_claude('인구는 얼마인가요?', dialogue))"
   ]
  },
  {
   "cell_type": "markdown",
   "id": "91aa68fc",
   "metadata": {},
   "source": [
    "## Few-Shot Prompting\n",
    "거대 언어 모델을 통해서 복잡하거나 불분명한 작업을 수행하고자 할때 정확도가 떨어지거나 특정 패턴으로 응답을 받고 싶다면 작업에 대한 예시나 정보를 프롬프트에 추가해서 응답의 정확도를 높힐수 있습니다."
   ]
  },
  {
   "cell_type": "markdown",
   "id": "8c1c85fc",
   "metadata": {},
   "source": [
    "프롬프트에 예제를 넣을수 있도록 새로운 함수를 생성하겠습니다."
   ]
  },
  {
   "cell_type": "code",
   "execution_count": null,
   "id": "23598a32",
   "metadata": {},
   "outputs": [],
   "source": [
    "def invoke_claude_raw(prompt):\n",
    "    body = json.dumps(\n",
    "        {\n",
    "            \"prompt\": prompt,\n",
    "            \"max_tokens_to_sample\": 500\n",
    "        }\n",
    "    )\n",
    "    response = bedrock_runtime.invoke_model(\n",
    "        modelId='anthropic.claude-v2:1',\n",
    "        body=body\n",
    "    )\n",
    "    response_body = json.loads(response.get('body').read())\n",
    "\n",
    "    return response_body.get('completion')"
   ]
  },
  {
   "cell_type": "markdown",
   "id": "7d623608",
   "metadata": {},
   "source": [
    "여행 관련 애플리케이션을 서비스하는 스타트업에서 사용자 경혐을 극대화하기 위해서 자연어 기반으로 항공권 검색이 가능한 기능을 개발한다고 가정하겠습니다.\n",
    "사용자가 검색창에서 아래와 같은 문구를 입력해서 항공권 검색이 가능하도록 하고자 합니다.\n",
    "\n",
    "\"인천에서 제주도로 가고 싶습니다\"\n",
    "\n",
    "하지만 API 서버를 통해서 항공권 검색을 하려면 출발지 및 도착지 공항의 코드를 변수로 입력해야 합니다.\n",
    "\n",
    "위의 문구를 프롬프트로 입력해서 LLM이 어떤 응답을 하지는 확인해 보겠습니다."
   ]
  },
  {
   "cell_type": "code",
   "execution_count": null,
   "id": "1ddd2072",
   "metadata": {},
   "outputs": [],
   "source": [
    "cprint(invoke_claude_raw('''\n",
    "Human: 인천에서 제주도로 가고 싶습니다\n",
    "\n",
    "Assistant:\n",
    "'''))"
   ]
  },
  {
   "cell_type": "markdown",
   "id": "2f04563f",
   "metadata": {},
   "source": [
    "LLM이 인천에서 제주도로 가는 다양한 방법에 대해서 응답을 주지만 저희가 구현하고자 하는 기능은 아닙니다."
   ]
  },
  {
   "cell_type": "markdown",
   "id": "69edfc73",
   "metadata": {},
   "source": [
    "**Zero-Shot Prompting**은 별도의 예제를 프롬프트에 포함하지 않는 방식입니다. 아래의 프롬프트를 입력해서 LLM을 통해서 각 공항의 코드를 확인해 보겠습니다."
   ]
  },
  {
   "cell_type": "code",
   "execution_count": null,
   "id": "35024fd6",
   "metadata": {},
   "outputs": [],
   "source": [
    "cprint(invoke_claude_raw('''\n",
    "Human: 인천공항과 제주공항의 코드는 무엇인가요?\n",
    "\n",
    "Assistant:\n",
    "'''))"
   ]
  },
  {
   "cell_type": "markdown",
   "id": "6f7c3e98",
   "metadata": {},
   "source": [
    "Zero-Shot Prompting을 통해서 Claude 모델을 통해서 공항 코드를 확인할 수 있음을 확인했습니다. 만약 사용하고자 하는 LLM이 Zero-Shot Prompting을 통해서 원하고자 하는 정보을 제공해주지 못한다면 Few-Shot Prompting을 통해서 원하는 정보를 얻을수 있는 가능성이 낮기 때문에 RAG 혹은 파인튜닝을 고려하셔야 합니다.\n",
    "\n",
    "하지만 위에서 사용한 프롬프트는 사용자가 실제로 입력할 문구일 가능성이 낮기 때문에 다른 방식으로 공항 코드를 확인해야 할것입니다."
   ]
  },
  {
   "cell_type": "markdown",
   "id": "d54bd12c",
   "metadata": {},
   "source": [
    "**One-Shot Prompting**은 하나의 예제를 프롬프트에 추가해서 LLM이 프롬프트를 통해서 추가적인 정보를 받도록 하는 기법입니다. 아래의 프롬프트를 입력해서 LLM을 통해서 각 공항의 코드를 확인해 보겠습니다."
   ]
  },
  {
   "cell_type": "code",
   "execution_count": null,
   "id": "117216aa",
   "metadata": {},
   "outputs": [],
   "source": [
    "cprint(invoke_claude_raw('''\n",
    "Human: 인천에서 뉴욕으로 가고 싶습니다.\n",
    "\n",
    "Assistant: 공항 코드 [ICN,JFK]\n",
    "\n",
    "Human: 인천에서 도쿄로 가고 싶습니다.\n",
    "\n",
    "Assistant:\n",
    "'''))"
   ]
  },
  {
   "cell_type": "markdown",
   "id": "40dcb869",
   "metadata": {},
   "source": [
    "응답에 공항 코드가 포함되어 있을수도 있고 없을수도 있습니다. 만약 응답에 공항 코드가 포함되어 있다면 LLM이 프롬프트를 통해서 *추가적인 정보*를 확인해서 응답을 주었음이 검증되었습니다. 하지만 공항 코드가 포함되어 있더라도 원하는 패턴대로 출력이 되지 않는다면 별도의 자연어 처리가 필요하므로 실효성이 떨어집니다."
   ]
  },
  {
   "cell_type": "markdown",
   "id": "2c9b426f",
   "metadata": {},
   "source": [
    "**Few-Shot Prompting**은 복수의 예제를 프롬프트에 추가해서 LLM이 프롬프트를 통해서 추가적인 정보를 받도록 하는 기법입니다. 아래의 프롬프트를 입력해서 LLM을 통해서 각 공항의 코드를 확인해 보겠습니다."
   ]
  },
  {
   "cell_type": "code",
   "execution_count": null,
   "id": "7e3b3190",
   "metadata": {},
   "outputs": [],
   "source": [
    "cprint(invoke_claude_raw('''\n",
    "Human: 인천에서 김해로 가고 싶습니다.\n",
    "\n",
    "Assistant: 공항 코드 [ICN,PUS]\n",
    "\n",
    "Human: 인천에서 제주로 가고 싶습니다.\n",
    "\n",
    "Assistant: 공항 코드 [ICN,CJU]\n",
    "\n",
    "Human: 인천에서 하노이로 가고 싶습니다.\n",
    "\n",
    "Assistant: 공항 코드 [ICN,HAN]\n",
    "\n",
    "Human: 인천에서 뉴욕으로 가고 싶습니다.\n",
    "\n",
    "Assistant: 공항 코드 [ICN,JFK]\n",
    "\n",
    "Human: 인천에서 도쿄로 가고 싶습니다.\n",
    "\n",
    "Assistant:\n",
    "'''))"
   ]
  },
  {
   "cell_type": "markdown",
   "id": "62e73b02",
   "metadata": {},
   "source": [
    "응답에 공항 코드가 포함되어 있고 원하는 패턴대로 [출발 공항코드,도착 공항코드] 출력이 된다면 Few-Shot Prompting을 통해서 원하는 기능을 구현할수 있음이 검증되었습니다.\n",
    "\n",
    "하지만 LLM은 항상 동일한 응답을 주지 않기 때문에 해당 방법이 항상 동작한다는 보장은 없으면 동일한 함수를 다수 호출해서 정확도를 높일수 있습니다. 추가로 응답에 원하는 패턴이 추가되어 있지만 API 서버에 변수로 넣기 위해서는 프로그래밍적인 요소를 추가할 필요가 있을수도 있습니다. 아래의 함수를 실행해서 응답에서 공항 코드만 축출해 보겠습니다."
   ]
  },
  {
   "cell_type": "code",
   "execution_count": null,
   "id": "7feb2261",
   "metadata": {},
   "outputs": [],
   "source": [
    "import re\n",
    "responses = []\n",
    "for _ in range(3):\n",
    "    responses.append(invoke_claude_raw('''\n",
    "Human: 인천에서 김해로 가고 싶습니다.\n",
    "\n",
    "Assistant: 공항 코드 [ICN,PUS]\n",
    "\n",
    "Human: 인천에서 제주로 가고 싶습니다.\n",
    "\n",
    "Assistant: 공항 코드 [ICN,CJU]\n",
    "\n",
    "Human: 인천에서 하노이로 가고 싶습니다.\n",
    "\n",
    "Assistant: 공항 코드 [ICN,HAN]\n",
    "\n",
    "Human: 인천에서 뉴욕으로 가고 싶습니다.\n",
    "\n",
    "Assistant: 공항 코드 [ICN,JFK]\n",
    "\n",
    "Human: 인천에서 도쿄로 가고 싶습니다.\n",
    "\n",
    "Assistant:\n",
    "    '''))\n",
    "    \n",
    "matches = []\n",
    "for res in responses:\n",
    "    res = ''.join(res.split())\n",
    "    match = re.findall('\\[[A-Z]{3},[A-Z]{3}\\]', res)\n",
    "    matches.extend(match)\n",
    "\n",
    "airport_code = list(set(matches))\n",
    "cprint(airport_code)"
   ]
  },
  {
   "cell_type": "markdown",
   "id": "1248e350",
   "metadata": {},
   "source": [
    "## Instruction\n",
    "\n",
    "프롬프트에 모델이 수행할 특정 작업이니 지시를 상세하게 명시할수록 정확도는 높아집니다. 아래의 프롬프트를 입력해서 LLM을 통해서 각 공항의 코드를 확인해 보겠습니다.\n",
    "\n",
    "사용자는 \"인천에서 도쿄로 가고 싶습니다\"를 입력하지만 애플리케이션 레벨에서 \"출발지와 도착지 공항의 코드를 JSON 형식으로 출력해주세요\"를 추가하도록 하겠습니다."
   ]
  },
  {
   "cell_type": "code",
   "execution_count": null,
   "id": "95c5e959",
   "metadata": {},
   "outputs": [],
   "source": [
    "user_input = '인천에서 도쿄로 가고 싶습니다.'\n",
    "instruction = '출발지와 도착지 공항의 코드를 JSON 형식으로 출력해주세요.'\n",
    "\n",
    "cprint(invoke_claude_raw(f'''\n",
    "Human: {user_input} {instruction}\n",
    "\n",
    "Assistant:\n",
    "'''))"
   ]
  },
  {
   "cell_type": "markdown",
   "id": "84b1b08a",
   "metadata": {},
   "source": [
    "동일한 프롬프트를 여러번 호출해서 항상 동일한 키값을 가지는 JSON이 응답에 포함되는지 확인해 보겠습니다."
   ]
  },
  {
   "cell_type": "code",
   "execution_count": null,
   "id": "8d01174e",
   "metadata": {},
   "outputs": [],
   "source": [
    "for i in range(3):    \n",
    "    cprint(invoke_claude_raw(f'''\n",
    "Human: {user_input} {instruction}\n",
    "\n",
    "Assistant:\n",
    "''').split('```json')[1].split('```')[0])"
   ]
  },
  {
   "cell_type": "markdown",
   "id": "169729f9",
   "metadata": {},
   "source": [
    "프롬프트의 출력 지시 부분에 JSON의 키 값을 지정해 보겠습니다."
   ]
  },
  {
   "cell_type": "code",
   "execution_count": null,
   "id": "7d6834e8",
   "metadata": {},
   "outputs": [],
   "source": [
    "instruction = '출발지와 도착지 공항의 코드를 JSON 형식으로 출력해주세요. 출발지 공항 코드의 키는 origin이고 도착지 공항 코드의 키는 destination 입니다.'\n",
    "\n",
    "for i in range(3):    \n",
    "    cprint(invoke_claude_raw(f'''\n",
    "Human: {user_input} {instruction}\n",
    "\n",
    "Assistant:\n",
    "''').split('```json')[1].split('```')[0])"
   ]
  },
  {
   "cell_type": "markdown",
   "id": "e5e6d977",
   "metadata": {},
   "source": [
    "## Function Calling / Agent\n",
    "\n",
    "Function Calling을 통해서 프롬프트에 명시된 작업에 적합한 함수와 변수를 추천받을수 있습니다. LLM으로부터 추천받은 함수를 애플리케이션에서 실행한 다음 나온 결과를 다시 프롬프트에 추가해서 LLM을 호출해서 사용자에게 응답을 줄수가 있습니다. 이와 같은 워크플로우를 조율/관리(Orchestrate)하는 애플리케이션 로직을 Agent라고 부릅니다."
   ]
  },
  {
   "cell_type": "markdown",
   "id": "849c9ac5",
   "metadata": {},
   "source": [
    "위의 예제에서는 검색창에 사용자가 원하는 비행 일정을 입력하면 LLM을 통해서 공항 코드를 축출한 후에 API 서버를 호출해서 항공권 검색이 가능하도록 하였습니다. 이 경우에는 검색창이 특정 함수와 일대일 매칭이 됩니다. 하지만 지능형 챗봇같이 하나의 기능이 아니라 다수의 기능, 예를 들면 항공권 검색, 예약, 취소, 수정 등등의 작업을 수행하고자 한다면 사용자 입력을 분석해서 어떤 함수를 호출할지는 결정해야 합니다."
   ]
  },
  {
   "cell_type": "markdown",
   "id": "d1a6a27b",
   "metadata": {},
   "source": [
    "아래와 같은 프롬프트 템플릿을 정의하겠습니다."
   ]
  },
  {
   "cell_type": "code",
   "execution_count": null,
   "id": "5015eae6",
   "metadata": {},
   "outputs": [],
   "source": [
    "function_call_template = '''\n",
    "Your job is to formulate a solution to a given <user-request> based on the instructions and tools below.\n",
    "\n",
    "Use these Instructions: \n",
    "1. In this environment you have access to a set of tools and functions you can use to answer the question.\n",
    "2. You can call the functions by using the <function_calls> format below.\n",
    "3. You can call one function only.\n",
    "4. The Results of the function will be provided in xml tag <function_results>. Never make these up. The values will be provided for you.\n",
    "5. Only use the information in the <function_results> to answer the question.\n",
    "6. Once you truly know the answer to the question, place the answer in <answer></answer> tags. Make sure to answer in a full sentence which is friendly.\n",
    "7. Never ask any questions\n",
    "\n",
    "<function_calls>\n",
    "<invoke>\n",
    "<tool_name>$TOOL_NAME</tool_name>\n",
    "<parameters>\n",
    "<$PARAMETER_NAME>$PARAMETER_VALUE</$PARAMETER_NAME>\n",
    "...\n",
    "</parameters>\n",
    "</invoke>\n",
    "</function_calls>\n",
    "\n",
    "Here are the tools available:\n",
    "<tools>\n",
    "<tool_description>\n",
    "<tool_name>list_flights</tool_name>\n",
    "<parameters>\n",
    "<name>origin</name>\n",
    "<name>destination</name>\n",
    "</parameters>\n",
    "</tool_description>\n",
    "\n",
    "<tool_description>\n",
    "<tool_name>update_booking</tool_name>\n",
    "<parameters>\n",
    "<name>booking_id</name>  \n",
    "</parameters>\n",
    "</tool_description>\n",
    "</tools>\n",
    "\n",
    "<user-request>\n",
    "{user_input}\n",
    "</user-request>\n",
    "\n",
    "Human: What is the first step in order to solve this problem?\n",
    "\n",
    "Assistant:\n",
    "'''\n",
    "\n",
    "\n",
    "def get_function_call_prompt(template, user_input):\n",
    "    prompt = template.replace('{user_input}', user_input)\n",
    "    return prompt    "
   ]
  },
  {
   "cell_type": "markdown",
   "id": "6c33f75b",
   "metadata": {},
   "source": [
    "사용자가 채팅창에 \"인천에서 도쿄로 가는 항공권을 예악하고 싶습니다\"라는 문자열을 입력했을때 어떤 함수를 호출하도록 지시하는지 확인해 보겠습니다."
   ]
  },
  {
   "cell_type": "code",
   "execution_count": null,
   "id": "2623ba9b",
   "metadata": {},
   "outputs": [],
   "source": [
    "cprint(invoke_claude_raw(\n",
    "    get_function_call_prompt(function_call_template, \"인천에서 도쿄로 가는 항공권을 예악하고 싶습니다.\"))\n",
    ")"
   ]
  },
  {
   "cell_type": "markdown",
   "id": "3725bc6a",
   "metadata": {},
   "source": [
    "위에서 사용한 템플릿은 영문으로 되어 있어서 답변도 영문으로 출력이 됩니다. 템플릿을 한글로 바꾸는 대신 응답을 한글로 하도록 지시해보겠습니다."
   ]
  },
  {
   "cell_type": "code",
   "execution_count": null,
   "id": "1caea2d3",
   "metadata": {},
   "outputs": [],
   "source": [
    "function_call_template = '''\n",
    "Your job is to formulate a solution to a given <user-request> based on the instructions and tools below.\n",
    "\n",
    "Use these Instructions: \n",
    "1. In this environment you have access to a set of tools and functions you can use to answer the question.\n",
    "2. You can call the functions by using the <function_calls> format below.\n",
    "3. You can call one function only.\n",
    "4. The Results of the function will be provided in xml tag <function_results>. Never make these up. The values will be provided for you.\n",
    "5. Only use the information in the <function_results> to answer the question.\n",
    "6. Once you truly know the answer to the question, place the answer in <answer></answer> tags. Make sure to answer in a full sentence which is friendly.\n",
    "7. Never ask any questions\n",
    "\n",
    "<function_calls>\n",
    "<invoke>\n",
    "<tool_name>$TOOL_NAME</tool_name>\n",
    "<parameters>\n",
    "<$PARAMETER_NAME>$PARAMETER_VALUE</$PARAMETER_NAME>\n",
    "...\n",
    "</parameters>\n",
    "</invoke>\n",
    "</function_calls>\n",
    "\n",
    "Here are the tools available:\n",
    "<tools>\n",
    "<tool_description>\n",
    "<tool_name>list_flights</tool_name>\n",
    "<parameters>\n",
    "<name>origin</name>\n",
    "<name>destination</name>\n",
    "</parameters>\n",
    "</tool_description>\n",
    "\n",
    "<tool_description>\n",
    "<tool_name>update_booking</tool_name>\n",
    "<parameters>\n",
    "<name>booking_id</name>  \n",
    "</parameters>\n",
    "</tool_description>\n",
    "</tools>\n",
    "\n",
    "<user-request>\n",
    "{user_input}\n",
    "</user-request>\n",
    "\n",
    "Human: What is the first step in order to solve this problem? Please provide the answer in Korean.\n",
    "\n",
    "Assistant:\n",
    "'''\n",
    "\n",
    "cprint(invoke_claude_raw(\n",
    "    get_function_call_prompt(function_call_template, \"인천에서 도쿄로 가는 항공권을 예악하고 싶습니다.\"))\n",
    ")"
   ]
  },
  {
   "cell_type": "markdown",
   "id": "bb37e3ec",
   "metadata": {},
   "source": [
    "변수에 공항 코드가 아니라 출발지/도착지 도시 이름이 나오는 경우도 있으므로 템플릿 수정하도록 하겠습니다."
   ]
  },
  {
   "cell_type": "code",
   "execution_count": null,
   "id": "81758e0b",
   "metadata": {},
   "outputs": [],
   "source": [
    "function_call_template = '''\n",
    "Your job is to formulate a solution to a given <user-request> based on the instructions and tools below.\n",
    "\n",
    "Use these Instructions: \n",
    "1. In this environment you have access to a set of tools and functions you can use to answer the question.\n",
    "2. You can call the functions by using the <function_calls> format below.\n",
    "3. You can call one function only.\n",
    "4. The results of the function will be provided in xml tag <function_results>. Never make these up. The values will be provided for you.\n",
    "5. Only use the information in the <function_results> to answer the question.\n",
    "6. Once you truly know the answer to the question, place the answer in <answer></answer> tags. Make sure to answer in a full sentence which is friendly.\n",
    "7. Never ask any questions\n",
    "\n",
    "<function_calls>\n",
    "<invoke>\n",
    "<tool_name>$TOOL_NAME</tool_name>\n",
    "<parameters>\n",
    "<$PARAMETER_NAME>$PARAMETER_VALUE</$PARAMETER_NAME>\n",
    "...\n",
    "</parameters>\n",
    "</invoke>\n",
    "</function_calls>\n",
    "\n",
    "Here are the tools available:\n",
    "<tools>\n",
    "<tool_description>\n",
    "<tool_name>list_flights</tool_name>\n",
    "<parameters>\n",
    "<name>origin_airport_code</name>\n",
    "<name>destination_airport_code</name>\n",
    "</parameters>\n",
    "</tool_description>\n",
    "\n",
    "<tool_description>\n",
    "<tool_name>update_booking</tool_name>\n",
    "<parameters>\n",
    "<name>booking_id</name>  \n",
    "</parameters>\n",
    "</tool_description>\n",
    "</tools>\n",
    "\n",
    "<user-request>\n",
    "{user_input}\n",
    "</user-request>\n",
    "\n",
    "Human: What is the first step in order to solve this problem? Please provide the answer in Korean.\n",
    "\n",
    "Assistant:\n",
    "'''\n",
    "\n",
    "cprint(invoke_claude_raw(\n",
    "    get_function_call_prompt(function_call_template, \"인천에서 도쿄로 가는 항공권을 예악하고 싶습니다.\"))\n",
    ")"
   ]
  },
  {
   "cell_type": "markdown",
   "id": "41434f1c",
   "metadata": {},
   "source": [
    "예약한 항공권이 있다고 가정하고 사용자가 항공권 변경을 원할때 어떤 함수를 호출하도록 지시하는지 확인해 보겠습니다."
   ]
  },
  {
   "cell_type": "code",
   "execution_count": null,
   "id": "9c30d635",
   "metadata": {},
   "outputs": [],
   "source": [
    "cprint(invoke_claude_raw(\n",
    "    get_function_call_prompt(function_call_template, \"예약한 항공권의 일정을 변경하고 싶습니다.\"))\n",
    ")"
   ]
  },
  {
   "cell_type": "markdown",
   "id": "2b88b8d1",
   "metadata": {},
   "source": [
    "예약 정보를 불러오는 함수를 템플릿에 추가하겠습니다."
   ]
  },
  {
   "cell_type": "code",
   "execution_count": null,
   "id": "1026444d",
   "metadata": {},
   "outputs": [],
   "source": [
    "function_call_template = '''\n",
    "Your job is to formulate a solution to a given <user-request> based on the instructions and tools below.\n",
    "\n",
    "Use these Instructions: \n",
    "1. In this environment you have access to a set of tools and functions you can use to answer the question.\n",
    "2. You can call the functions by using the <function_calls> format below.\n",
    "3. You can call one function only.\n",
    "4. The results of the function will be provided in xml tag <function_results>. Never make these up. The values will be provided for you.\n",
    "5. Only use the information in the <function_results> to answer the question.\n",
    "6. Once you truly know the answer to the question, place the answer in <answer></answer> tags. Make sure to answer in a full sentence which is friendly.\n",
    "7. Never ask any questions\n",
    "\n",
    "<function_calls>\n",
    "<invoke>\n",
    "<tool_name>$TOOL_NAME</tool_name>\n",
    "<parameters>\n",
    "<$PARAMETER_NAME>$PARAMETER_VALUE</$PARAMETER_NAME>\n",
    "...\n",
    "</parameters>\n",
    "</invoke>\n",
    "</function_calls>\n",
    "\n",
    "Here are the tools available:\n",
    "<tools>\n",
    "<tool_description>\n",
    "<tool_name>list_flights</tool_name>\n",
    "<parameters>\n",
    "<name>origin_airport_code</name>\n",
    "<name>destination_airport_code</name>\n",
    "</parameters>\n",
    "</tool_description>\n",
    "\n",
    "<tool_description>\n",
    "<tool_name>update_booking</tool_name>\n",
    "<parameters>\n",
    "<name>booking_id</name>  \n",
    "</parameters>\n",
    "</tool_description>\n",
    "</tools>\n",
    "\n",
    "<tool_description>\n",
    "<tool_name>get_booking</tool_name>\n",
    "<parameters>\n",
    "<name>booking_id</name>  \n",
    "</parameters>\n",
    "</tool_description>\n",
    "</tools>\n",
    "\n",
    "<tool_description>\n",
    "<tool_name>list_bookings</tool_name>\n",
    "<parameters>\n",
    "<name>user_id</name>  \n",
    "</parameters>\n",
    "</tool_description>\n",
    "</tools>\n",
    "\n",
    "<user-request>\n",
    "{user_input}\n",
    "</user-request>\n",
    "\n",
    "Human: What is the first step in order to solve this problem? Please provide the answer in Korean.\n",
    "\n",
    "Assistant:\n",
    "'''"
   ]
  },
  {
   "cell_type": "markdown",
   "id": "b12f8292",
   "metadata": {},
   "source": [
    "사용자가 애플리케이션에 로그인을 하면 사용자 정보를 확인할수 있으므로 프롬프트에 사용자 정보를 추가해보겠습니다."
   ]
  },
  {
   "cell_type": "code",
   "execution_count": null,
   "id": "76e62af9",
   "metadata": {},
   "outputs": [],
   "source": [
    "cprint(invoke_claude_raw(\n",
    "    get_function_call_prompt(function_call_template, \"예약한 항공권의 일정을 변경하고 싶습니다. user_id=1234\"))\n",
    ")"
   ]
  },
  {
   "cell_type": "markdown",
   "id": "2bde0502",
   "metadata": {},
   "source": [
    "템플릿에 명시한 함수들을 생성 하겠습니다."
   ]
  },
  {
   "cell_type": "code",
   "execution_count": null,
   "id": "a7b4048d",
   "metadata": {},
   "outputs": [],
   "source": [
    "def list_flights(origin_airport_code, destination_airport_code):\n",
    "    response = [\n",
    "        {\n",
    "            \"flight_code\": \"KE123\",\n",
    "            \"depart_time\": \"11:25\",\n",
    "            \"price\": \"400,000\"\n",
    "        },\n",
    "        {\n",
    "            \"flight_code\": \"OZ999\",\n",
    "            \"depart_time\": \"13:00\",\n",
    "            \"price\": \"500,000\"\n",
    "        },\n",
    "    ] \n",
    "    return response\n",
    "\n",
    "\n",
    "def get_booking(booking_id):\n",
    "    response = {\n",
    "        \"booking_id\": 123123123,\n",
    "        \"type\": \"flight\",\n",
    "        \"date\": \"2024-01-01\"\n",
    "    }\n",
    "    return response\n",
    "\n",
    "\n",
    "def list_bookings(user_id):\n",
    "    response = {\n",
    "        \"active_booking_ids\": [\n",
    "            \"123123123\"\n",
    "        ]\n",
    "    }\n",
    "    return response\n",
    "\n",
    "\n",
    "def update_booking(booking_id):\n",
    "    response = {\n",
    "        \"booking_id\": booking_id,\n",
    "        \"updated\": True,\n",
    "        \"changes\": [\n",
    "            {\n",
    "                \"date\": \"2024-01-11\" \n",
    "            }\n",
    "        ]\n",
    "    }\n",
    "    return response\n",
    "\n",
    "\n",
    "def call_function(tool_name, parameters):\n",
    "    func = globals()[tool_name]\n",
    "    output = func(**parameters)\n",
    "    return output"
   ]
  },
  {
   "cell_type": "markdown",
   "id": "c5825cae",
   "metadata": {},
   "source": [
    "애플리케이션 로직을 수행할 Agent 생성"
   ]
  },
  {
   "cell_type": "code",
   "execution_count": null,
   "id": "f7d9c44d",
   "metadata": {},
   "outputs": [],
   "source": [
    "import xmltodict\n",
    "\n",
    "def agent(prompt, output):\n",
    "\n",
    "    # LLM 모델이 사용자가 요청한 작업에 대한 최종 답변을 주었는지 확인\n",
    "    done = False\n",
    "    if '<answer>' in output:\n",
    "        answer = output.split('<answer>')[1]\n",
    "        answer = answer.split('</answer>')[0]\n",
    "        done = True\n",
    "        return done, answer\n",
    "    \n",
    "    # 최종 답변을 주지 않았다면 응답에 포함된 함수를 호출\n",
    "    else:\n",
    "\n",
    "        # 응답에서 호출할 함수 및 변수 확인\n",
    "        function_xml = output.split('<function_calls>')[1]\n",
    "        function_xml = function_xml.split('</function_calls>')[0]\n",
    "        function_dict = xmltodict.parse(function_xml)\n",
    "        func_name = function_dict['invoke']['tool_name']\n",
    "        parameters = function_dict['invoke']['parameters']\n",
    "\n",
    "        # 함수 호출\n",
    "        func_response = call_function(func_name, parameters)\n",
    "\n",
    "        # 호출한 함수가 반환한 정보를 축출\n",
    "        func_response_str = '\\n\\nHuman: Here is the result from your function call\\n\\n'\n",
    "        func_response_str = func_response_str + f'<function_results>\\n{func_response}\\n</function_results>'\n",
    "        func_response_str = func_response_str + '\\n\\nIf you know the answer, say it. If not, what is the next step?\\n\\nAssistant:'\n",
    "\n",
    "        # 호출한 함수가 반환한 정보를 프롬프트에 추가\n",
    "        prompt = prompt + output + func_response_str\n",
    "    return done, prompt"
   ]
  },
  {
   "cell_type": "markdown",
   "id": "d4e6f7da",
   "metadata": {},
   "source": [
    "에이전트를 통해서 항공권 검색"
   ]
  },
  {
   "cell_type": "code",
   "execution_count": null,
   "id": "3958ed19",
   "metadata": {},
   "outputs": [],
   "source": [
    "prompt = get_function_call_prompt(function_call_template, \"인천에서 도쿄로 가는 항공권편 정보를 알고 싶습니다.\")\n",
    "\n",
    "while True:\n",
    "    output = invoke_claude_raw(prompt).strip()\n",
    "    done, prompt = agent(prompt, output)\n",
    "    print(prompt)\n",
    "    if done:\n",
    "        cprint(prompt)\n",
    "        break"
   ]
  },
  {
   "cell_type": "markdown",
   "id": "80979a57",
   "metadata": {},
   "source": [
    "에이전트를 통해서 예약 목록 확인"
   ]
  },
  {
   "cell_type": "code",
   "execution_count": null,
   "id": "0f4814a5",
   "metadata": {},
   "outputs": [],
   "source": [
    "prompt = get_function_call_prompt(function_call_template, \"예약 목록을 확인하고 싶습니다. user_id=1234\")\n",
    "\n",
    "while True:\n",
    "    output = invoke_claude_raw(prompt).strip()\n",
    "    done, prompt = agent(prompt, output)\n",
    "    print(prompt)\n",
    "    if done:\n",
    "        cprint(prompt)\n",
    "        break"
   ]
  },
  {
   "cell_type": "markdown",
   "id": "112201c9",
   "metadata": {},
   "source": [
    "에이전트를 통해서 예약 수정"
   ]
  },
  {
   "cell_type": "code",
   "execution_count": null,
   "id": "9174adb5",
   "metadata": {},
   "outputs": [],
   "source": [
    "prompt = get_function_call_prompt(function_call_template, \"예약을 수정하고 싶습니다. booking_id=123123123\")\n",
    "\n",
    "while True:\n",
    "    output = invoke_claude_raw(prompt).strip()\n",
    "    done, prompt = agent(prompt, output)\n",
    "    if done:\n",
    "        cprint(prompt)\n",
    "        break"
   ]
  }
 ],
 "metadata": {
  "kernelspec": {
   "display_name": "conda_tensorflow2_p310",
   "language": "python",
   "name": "conda_tensorflow2_p310"
  },
  "language_info": {
   "codemirror_mode": {
    "name": "ipython",
    "version": 3
   },
   "file_extension": ".py",
   "mimetype": "text/x-python",
   "name": "python",
   "nbconvert_exporter": "python",
   "pygments_lexer": "ipython3",
   "version": "3.10.13"
  }
 },
 "nbformat": 4,
 "nbformat_minor": 5
}
